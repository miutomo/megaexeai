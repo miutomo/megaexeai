{
 "cells": [
  {
   "cell_type": "code",
   "execution_count": 1,
   "metadata": {
    "collapsed": true
   },
   "outputs": [],
   "source": [
    "#import部\n",
    "import pandas as pd\n",
    "import matplotlib.pyplot as plt\n",
    "import seaborn as sns\n",
    "\n",
    "import os, sys\n",
    "import glob\n",
    "\n",
    "#警告を表示しないようにする\n",
    "import warnings\n",
    "warnings.filterwarnings('ignore')"
   ]
  },
  {
   "cell_type": "markdown",
   "metadata": {},
   "source": [
    "##関数定義"
   ]
  },
  {
   "cell_type": "code",
   "execution_count": 2,
   "metadata": {
    "code_folding": [],
    "collapsed": true
   },
   "outputs": [],
   "source": [
    "#月単位グラフの前処理\n",
    "#複数年のデータを、各年ごとに分割してリストに保持\n",
    "def prepro_graph_monthly(df_):\n",
    "    df = df_\n",
    "    df_year_ = []\n",
    "\n",
    "    for i in set(df['date'].dt.year):\n",
    "        df_temp = df[df['date'].dt.year == i]\n",
    "        df_year_.append(df_temp)\n",
    "\n",
    "    return df_year_"
   ]
  },
  {
   "cell_type": "code",
   "execution_count": 3,
   "metadata": {
    "code_folding": [],
    "collapsed": true
   },
   "outputs": [],
   "source": [
    "#月単位グラフ描画\n",
    "#目的：その年における各月のスループットの動きを確認\n",
    "def graph_month(df_, outputpath):\n",
    "    df = df_\n",
    "    df_year_ = []\n",
    "    if len(df.index) < 365:\n",
    "        df_year_.append(df)\n",
    "    else:\n",
    "        df_year_ = prepro_graph_monthly(df)\n",
    "    \n",
    "    #---出力先---\n",
    "    outputpath = outputpath\n",
    "    outputpath_ = os.path.join(outputpath, 'monthly_')\n",
    "    if not os.path.exists(outputpath_):\n",
    "        os.mkdir(outputpath_) \n",
    "    #------------\n",
    "\n",
    "    for i in range(len(df_year_)):\n",
    "        df = df_year_[i]\n",
    "\n",
    "        df_tmp_ = []\n",
    "        for i in set(df['date'].dt.month):\n",
    "            df_tmp = df[df['date'].dt.month==i]\n",
    "            df_tmp_.append(df_tmp)\n",
    "\n",
    "        y = []\n",
    "        for num, i in enumerate(df_tmp_):\n",
    "            x = list(set(df_tmp_[num]['date'].dt.day))\n",
    "            y.append(i)\n",
    "            plt.plot(x, y[num][y[num].columns[1]])\n",
    "\n",
    "        title = str(list(set(df['date'].dt.year))[0])+'_'+ str(df.columns[1])+ '_'+ 'monthly_'+ outputpath \n",
    "        month_dict = {1:\"Jan\", 2:\"Feb\", 3:\"Mar\", 4:\"Apr\", 5:\"May\", 6:\"Jun\", 7:\"Jul\", 8:\"Aug\", 9:\"Sep\", 10:\"Oct\", 11:\"Nov\", 12:\"Dec\"}\n",
    "        legend = list(set(df['date'].dt.month))\n",
    "        legend_ = []\n",
    "        for cnt in legend:\n",
    "            tmp_ = month_dict[cnt] \n",
    "            legend_.append(tmp_)\n",
    "\n",
    "        plt.title(title)\n",
    "        plt.legend(legend_, loc='upper right', bbox_to_anchor=(0.5, 0.5, 0.75, 0.5))\n",
    "        plt.xlabel(\"day\")\n",
    "        plt.ylabel(\"GTP_throughput [byte/day]\")\n",
    "                \n",
    "        plt.savefig(outputpath_+ '/'+ title+ '.png' ,bbox_inches='tight')\n",
    "        plt.clf()"
   ]
  },
  {
   "cell_type": "code",
   "execution_count": 4,
   "metadata": {
    "collapsed": true
   },
   "outputs": [],
   "source": [
    "#週単位グラフの前処理\n",
    "#1年のデータを、各月ごとに分割してリストに保持\n",
    "def prepro_graph_weekly(df_):\n",
    "    df = df_\n",
    "    \n",
    "    df_month_ = []\n",
    "    for i in set(df['date'].dt.month):\n",
    "        df_temp = df[df['date'].dt.month == i]\n",
    "        df_month_.append(df_temp)\n",
    "\n",
    "    return df_month_"
   ]
  },
  {
   "cell_type": "code",
   "execution_count": 5,
   "metadata": {
    "code_folding": [],
    "collapsed": true
   },
   "outputs": [],
   "source": [
    "#weekly_の出力がすごいことになるので、整理用の関数を用意\n",
    "#ファイル命名規則に乗っ取り、各年ごとに振り分け\n",
    "def file_organize(targetpath_):\n",
    "    targetpath = targetpath_\n",
    "    os.chdir(targetpath)\n",
    "    target = glob.glob('*.png')\n",
    "\n",
    "    for i in target:\n",
    "        year = i.split('_')[0]\n",
    "        old = i\n",
    "        new = os.path.join(year, i)\n",
    "        os.renames(old,new)"
   ]
  },
  {
   "cell_type": "code",
   "execution_count": 6,
   "metadata": {},
   "outputs": [],
   "source": [
    "#週単位グラフ描画\n",
    "#目的：その月における各週のスループットの動きを確認\n",
    "def graph_weekly(df_, outputpath):\n",
    "    df = df_\n",
    "    df_year_ = []\n",
    "    if len(df_.index) < 365:\n",
    "        df_year_.append(df)\n",
    "    else:\n",
    "        df_year_ = prepro_graph_monthly(df)\n",
    "\n",
    "    #---出力先---\n",
    "    outputpath = outputpath\n",
    "    outputpath_ = os.path.join(outputpath, 'weekly_')\n",
    "    if not os.path.exists(outputpath_):\n",
    "        os.mkdir(outputpath_) \n",
    "    #------------\n",
    "    \n",
    "    for i in range(len(df_year_)):\n",
    "        df_year = df_year_[i]\n",
    "        df_month_ = prepro_graph_weekly(df_year)\n",
    "\n",
    "        for cnt in range(len(df_month_)):\n",
    "            df_ = df_month_[cnt]\n",
    "            df_['days_nam'] = df_['date'].dt.weekday_name\n",
    "            df_ = df_.set_index(['days_nam'])\n",
    "\n",
    "            df_test = pd.DataFrame()\n",
    "            for i in range(len(df_.index)):\n",
    "                if i %7 != 0:\n",
    "                    pass\n",
    "                else:\n",
    "                    df_test_ = df_[i:i+7]                    \n",
    "                    df_test = pd.concat([df_test, df_test_], axis=1)\n",
    "\n",
    "            cols = ['1w_datetime', '1w_data', '2w_datetime', '2w_data', '3w_datetime', '3w_data', '4w_datetime', '4w_data', '5w_datetime', '5w_data']\n",
    "            df_test.columns = cols[:len(df_test.columns)]\n",
    "            df_test['daynam'] = df_test.index\n",
    "\n",
    "            days_lis = ['Monday', 'Tuesday', 'Wednesday', 'Thursday', 'Friday', 'Saturday', 'Sunday']\n",
    "            df_test['daynam'] = pd.Categorical(df_test['daynam'], days_lis)\n",
    "\n",
    "            df_plot_ = df_test.sort_values('daynam')\n",
    "            df_plot = df_plot_.loc[:, df_test.columns.str.contains('data')]\n",
    "\n",
    "            month_dict = {1:\"Jan\", 2:\"Feb\", 3:\"Mar\", 4:\"Apr\", 5:\"May\", 6:\"Jun\", 7:\"Jul\", 8:\"Aug\", 9:\"Sep\", 10:\"Oct\", 11:\"Nov\", 12:\"Dec\"}\n",
    "            tmp_ = month_dict[list(set(df_['date'].dt.month))[0]]\n",
    "            title =str(list(set(df_['date'].dt.year))[0])+ '_'+ str(tmp_)+ '_'+ str(df_.columns[1])+ '_'+ 'weekly_'+ outputpath\n",
    "\n",
    "            df_plot.plot(figsize=(8,6))\n",
    "            plt.title(title)\n",
    "            plt.legend(loc='upper right', bbox_to_anchor=(0.5, 0.5, 0.75, 0.5))\n",
    "            plt.xticks(range(len(df_plot.index)), days_lis)\n",
    "            plt.xlabel(\"day of the week\")\n",
    "            plt.ylabel(\"GTP_throughput [byte/day]\")\n",
    "                        \n",
    "            plt.savefig(outputpath_+ '/'+ title +'.png', bbox_inches='tight')\n",
    "            plt.clf()"
   ]
  },
  {
   "cell_type": "markdown",
   "metadata": {},
   "source": [
    "##データ読み込みとメイン部分"
   ]
  },
  {
   "cell_type": "code",
   "execution_count": 7,
   "metadata": {
    "scrolled": true
   },
   "outputs": [
    {
     "name": "stdout",
     "output_type": "stream",
     "text": [
      "['dammy.csv']\n"
     ]
    }
   ],
   "source": [
    "filelist = glob.glob('*.csv') #スクリプトと同一フォルダ内のcsvファイルを探す\n",
    "print(filelist)\n",
    "\n",
    "for i in filelist:\n",
    "    output_root = i.split('.')[0]\n",
    "    df = pd.read_csv(i, index_col=0)\n",
    "    df['date'] = pd.to_datetime(df['date'])\n",
    "    df.dtypes\n",
    "    \n",
    "    ##main\n",
    "    df_hoge = []\n",
    "    for i in df.columns[2:]:\n",
    "        outputpath_ = output_root\n",
    "        if not os.path.exists(outputpath_):\n",
    "            os.mkdir(outputpath_)\n",
    "        df_hoge = df[['date', i]]\n",
    "        graph_month(df_hoge, outputpath_) #graph_month：自作関数①\n",
    "        graph_weekly(df_hoge, outputpath_)#graph_weekly:自作関数②"
   ]
  },
  {
   "cell_type": "markdown",
   "metadata": {},
   "source": [
    "##出力整理"
   ]
  },
  {
   "cell_type": "code",
   "execution_count": 8,
   "metadata": {},
   "outputs": [
    {
     "name": "stdout",
     "output_type": "stream",
     "text": [
      "Sort_target = /home/fuq1n0/デスクトップ/python_learning/graph_vis/dammy/weekly_\n"
     ]
    }
   ],
   "source": [
    "targetpath = input('Sort_target = ')\n",
    "file_organize(targetpath)"
   ]
  },
  {
   "cell_type": "markdown",
   "metadata": {},
   "source": [
    "##砂場"
   ]
  },
  {
   "cell_type": "code",
   "execution_count": null,
   "metadata": {
    "collapsed": true
   },
   "outputs": [],
   "source": [
    "#ちょっとした処理やデータ型の確認用"
   ]
  }
 ],
 "metadata": {
  "kernelspec": {
   "display_name": "Python 3",
   "language": "python",
   "name": "python3"
  },
  "language_info": {
   "codemirror_mode": {
    "name": "ipython",
    "version": 3
   },
   "file_extension": ".py",
   "mimetype": "text/x-python",
   "name": "python",
   "nbconvert_exporter": "python",
   "pygments_lexer": "ipython3",
   "version": "3.6.2"
  }
 },
 "nbformat": 4,
 "nbformat_minor": 2
}
